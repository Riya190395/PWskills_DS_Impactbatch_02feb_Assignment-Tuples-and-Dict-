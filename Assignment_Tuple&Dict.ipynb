{
 "cells": [
  {
   "cell_type": "markdown",
   "id": "c5607da0-34a7-4283-b61e-ec4b12bda3b7",
   "metadata": {
    "jp-MarkdownHeadingCollapsed": true,
    "tags": []
   },
   "source": [
    "# Assignment"
   ]
  },
  {
   "cell_type": "markdown",
   "id": "295e1973-861d-466a-aa8b-bb55fb450f22",
   "metadata": {},
   "source": [
    "# Q1. What are the characteristics of the tuples? Is tuple immutable?"
   ]
  },
  {
   "cell_type": "markdown",
   "id": "fccc5259-1490-4831-a1b0-b6270871859c",
   "metadata": {},
   "source": [
    "* Tuples are comma separated collection of data of varying datatypes.\n",
    "* They are ordered.\n",
    "* They are indexed.\n",
    "* They can store duplicate values.\n",
    "* They are enclosed within parenthesis.\n",
    "* Yes, tuples are immutable. Once they are assigned, elements cant be changed."
   ]
  },
  {
   "cell_type": "markdown",
   "id": "89b60ce5-933d-488e-807b-48fae6743396",
   "metadata": {},
   "source": [
    "# Q2. What are the two tuple methods in python? Give an example of each method. Give a reason why tuples have only two in-built methods as compared to Lists."
   ]
  },
  {
   "cell_type": "markdown",
   "id": "b9eb6e77-bf32-4473-9635-3284f69658ad",
   "metadata": {},
   "source": [
    "### count() and index() are the two tuple methods in Python. "
   ]
  },
  {
   "cell_type": "code",
   "execution_count": 84,
   "id": "62a5eba8-2bc4-4a24-b8b9-2db92159ed38",
   "metadata": {},
   "outputs": [],
   "source": [
    "#example\n",
    "\n",
    "t1 = (\"Apple\", \"Banana\", \"Cat\", 3 , 4.35 , True, \"apple\" , True)"
   ]
  },
  {
   "cell_type": "code",
   "execution_count": 85,
   "id": "f232c385-13b5-4100-8bf0-2a1c3901a54c",
   "metadata": {},
   "outputs": [
    {
     "data": {
      "text/plain": [
       "('Apple', 'Banana', 'Cat', 3, 4.35, True, 'apple', True)"
      ]
     },
     "execution_count": 85,
     "metadata": {},
     "output_type": "execute_result"
    }
   ],
   "source": [
    "t1"
   ]
  },
  {
   "cell_type": "code",
   "execution_count": 70,
   "id": "d34474d0-b5f1-4f58-b618-d2bb5e39f504",
   "metadata": {},
   "outputs": [
    {
     "data": {
      "text/plain": [
       "2"
      ]
     },
     "execution_count": 70,
     "metadata": {},
     "output_type": "execute_result"
    }
   ],
   "source": [
    "#count() method counts the occurrance of the specified element\n",
    "#Here it is counting the times the Boolean True is appearing\n",
    "\n",
    "t1.count(True)"
   ]
  },
  {
   "cell_type": "code",
   "execution_count": 72,
   "id": "09fd8ecb-fe1d-4b5e-89c0-4fe32ebf50b4",
   "metadata": {},
   "outputs": [
    {
     "data": {
      "text/plain": [
       "6"
      ]
     },
     "execution_count": 72,
     "metadata": {},
     "output_type": "execute_result"
    }
   ],
   "source": [
    "#index() method searches the index of the specified element\n",
    "\n",
    "t1.index(\"apple\")"
   ]
  },
  {
   "cell_type": "markdown",
   "id": "ce97322c-4e2c-43e0-86b0-ec94d9df7d8a",
   "metadata": {},
   "source": [
    "### Tuples have only two in-built methods due to its immutability."
   ]
  },
  {
   "cell_type": "markdown",
   "id": "8cd86a00-6594-4f20-a3e4-fd2351618665",
   "metadata": {},
   "source": [
    "# Q3. Which collection datatypes in python do not allow duplicate items? Write a code using a set to remove duplicates from the given list. List = [1, 1, 1, 2, 1, 3, 1, 4, 2, 1, 2, 2, 2, 3, 2, 4, 3, 1, 3, 2, 3, 3, 3, 4, 4, 1, 4, 2, 4, 3, 4, 4]"
   ]
  },
  {
   "cell_type": "markdown",
   "id": "8de18e20-f790-4a06-98f9-e4a43031047d",
   "metadata": {},
   "source": [
    "### Sets do not allow duplicate values"
   ]
  },
  {
   "cell_type": "code",
   "execution_count": 83,
   "id": "660a0beb-064f-450a-b444-e1070eaf67e2",
   "metadata": {},
   "outputs": [
    {
     "data": {
      "text/plain": [
       "{1, 2, 3, 4}"
      ]
     },
     "execution_count": 83,
     "metadata": {},
     "output_type": "execute_result"
    }
   ],
   "source": [
    "# Code using a set to remove duplicates from the given list. \n",
    "\n",
    "List = [1, 1, 1, 2, 1, 3, 1, 4, 2, 1, 2, 2, 2, 3, 2, 4, 3, 1, 3, 2, 3, 3, 3, 4, 4, 1, 4, 2, 4, 3, 4, 4]\n",
    "set(List)"
   ]
  },
  {
   "cell_type": "markdown",
   "id": "838dfb7c-20f9-4eec-b5db-a257f75206b4",
   "metadata": {},
   "source": [
    "# Q4. Explain the difference between the union() and update() methods for a set. Give an example of each method."
   ]
  },
  {
   "cell_type": "markdown",
   "id": "d691cf7a-6aea-46b1-9306-5da1c961b9a8",
   "metadata": {},
   "source": [
    "## The union() and update() methods are both used for merging elements from one set into another set. However, there are some differences between them:\n",
    "\n",
    "* union(): The union() method returns a new set that contains all elements from both the sets, without modifying either of the original sets."
   ]
  },
  {
   "cell_type": "code",
   "execution_count": 91,
   "id": "45c44ce8-7c32-4473-8d50-21b0a5fd3b47",
   "metadata": {},
   "outputs": [
    {
     "name": "stdout",
     "output_type": "stream",
     "text": [
      "{33, 11, 22}\n",
      "{'a', 'c', 'b'}\n",
      "{'a', 33, 'c', 22, 11, 'b'}\n"
     ]
    }
   ],
   "source": [
    "#example\n",
    "\n",
    "A = {11, 22, 33}\n",
    "B = {'a', 'b', 'c'}\n",
    "C = A.union(B)\n",
    "print(A) \n",
    "print(B) \n",
    "print(C) "
   ]
  },
  {
   "cell_type": "markdown",
   "id": "6dab97ad-0820-4d6a-acf1-9e149d538d71",
   "metadata": {},
   "source": [
    "* update(): The update() method adds all elements from one set into another set, modifying the original set. It is an inplace operation."
   ]
  },
  {
   "cell_type": "code",
   "execution_count": 92,
   "id": "89fda8bd-7963-4f51-88b7-8ea39a9c51ab",
   "metadata": {},
   "outputs": [
    {
     "name": "stdout",
     "output_type": "stream",
     "text": [
      "{'a', 33, 'c', 22, 11, 'b'}\n",
      "{'a', 'c', 'b'}\n",
      "None\n"
     ]
    }
   ],
   "source": [
    "#example\n",
    "\n",
    "A = {11, 22, 33}\n",
    "B = {'a', 'b', 'c'}\n",
    "C = A.update(B)\n",
    "print(A) \n",
    "print(B) \n",
    "print(C) "
   ]
  },
  {
   "cell_type": "markdown",
   "id": "11bb4e95-6f71-49f4-b0c0-624b2287e6cb",
   "metadata": {},
   "source": [
    "Note: Elements in above sets are arranging as per hash table."
   ]
  },
  {
   "cell_type": "markdown",
   "id": "d951ca6a-b1ee-4d47-ab27-743491b480c1",
   "metadata": {},
   "source": [
    "# Q5. What is a dictionary? Give an example. Also, state whether a dictionary is ordered or unordered."
   ]
  },
  {
   "cell_type": "markdown",
   "id": "561f8f8d-c560-4bee-9417-56fa7dfde0c5",
   "metadata": {
    "tags": []
   },
   "source": [
    "* Dictionary in python is the key-value collection of data. \n",
    "* It encloses in braces. Each key-value pair is called an item. Each item is separated by comma. \n",
    "* Keys are immutable and unique while values can be mutable, immutable, and duplicate. \n",
    "* For previous versions of Python, it was unordered. Now, in Python, they have introduced a subclass named OrderedDict of dict to maintain the order of the items."
   ]
  },
  {
   "cell_type": "code",
   "execution_count": 93,
   "id": "4661d607-7845-4720-b9d2-e7bf443167b9",
   "metadata": {},
   "outputs": [],
   "source": [
    "#example\n",
    "\n",
    "d = {\"College\" : \"abc\" , \"Branch\" : ['Commerce' , 'Science' , 'Arts'] , \"dept_code\" : (101 , 102 , 103)}"
   ]
  },
  {
   "cell_type": "code",
   "execution_count": 94,
   "id": "9f95eca2-f9b0-4c6f-829e-c51ed834c204",
   "metadata": {},
   "outputs": [
    {
     "data": {
      "text/plain": [
       "{'College': 'abc',\n",
       " 'Branch': ['Commerce', 'Science', 'Arts'],\n",
       " 'dept_code': (101, 102, 103)}"
      ]
     },
     "execution_count": 94,
     "metadata": {},
     "output_type": "execute_result"
    }
   ],
   "source": [
    "d"
   ]
  },
  {
   "cell_type": "markdown",
   "id": "c4d569d6-8eea-4259-97cf-a34a4dd89c95",
   "metadata": {},
   "source": [
    "# Q6. Can we create a nested dictionary? If so, please give an example by creating a simple one-level nested dictionary."
   ]
  },
  {
   "cell_type": "markdown",
   "id": "19be6dbe-69a2-4aa6-ac73-0393c170cc72",
   "metadata": {},
   "source": [
    "### Ofcourse, it is possible to create a nested dictionary like as follows:"
   ]
  },
  {
   "cell_type": "code",
   "execution_count": 95,
   "id": "68f7b66a-4ae5-4be5-9681-8cd0f7b789f9",
   "metadata": {},
   "outputs": [
    {
     "data": {
      "text/plain": [
       "{'Dept': 'M.Sc.',\n",
       " 'Student_name': {'First_name': 'Rhea', 'Last_name': 'Dhanwani'},\n",
       " 'Roll_no': 101}"
      ]
     },
     "execution_count": 95,
     "metadata": {},
     "output_type": "execute_result"
    }
   ],
   "source": [
    "#Creating record of a student using dict\n",
    "\n",
    "d1 = {\"Dept\" : \"M.Sc.\", \"Student_name\" : {\"First_name\" : \"Rhea\", \"Last_name\" : \"Dhanwani\"}, \"Roll_no\" : 101}\n",
    "d1"
   ]
  },
  {
   "cell_type": "markdown",
   "id": "410f4308-a738-47fd-a0a0-649bdeb96255",
   "metadata": {},
   "source": [
    "# Q7. Using setdefault() method, create key named topics in the given dictionary and also add the value of the key as this list ['Python', 'Machine Learning’, 'Deep Learning'] "
   ]
  },
  {
   "cell_type": "markdown",
   "id": "d9a0dfa5-af6f-4456-9fa0-8401d9b01b39",
   "metadata": {},
   "source": [
    "## dict1 = {'language' : 'Python', 'course': 'Data Science Masters'} "
   ]
  },
  {
   "cell_type": "code",
   "execution_count": 96,
   "id": "73a9a379-24b3-4cd8-834f-7aed8c846b62",
   "metadata": {},
   "outputs": [],
   "source": [
    "# usage of setdefault()\n",
    "\n",
    "dict1 = {'language' : 'Python', 'course': 'Data Science Masters'} "
   ]
  },
  {
   "cell_type": "code",
   "execution_count": 97,
   "id": "4be7977d-3d05-45bf-818c-5866cc68d356",
   "metadata": {},
   "outputs": [
    {
     "data": {
      "text/plain": [
       "{'language': 'Python', 'course': 'Data Science Masters'}"
      ]
     },
     "execution_count": 97,
     "metadata": {},
     "output_type": "execute_result"
    }
   ],
   "source": [
    "dict1"
   ]
  },
  {
   "cell_type": "code",
   "execution_count": 98,
   "id": "cbfa417c-da92-4b32-9c12-3a9677b1e3ec",
   "metadata": {},
   "outputs": [
    {
     "data": {
      "text/plain": [
       "['Python', 'Machine Learning', 'Deep Learning']"
      ]
     },
     "execution_count": 98,
     "metadata": {},
     "output_type": "execute_result"
    }
   ],
   "source": [
    "dict1.setdefault('topics', ['Python', 'Machine Learning', 'Deep Learning'])"
   ]
  },
  {
   "cell_type": "code",
   "execution_count": 99,
   "id": "9f311406-0220-4e35-b313-d17dcf6337ab",
   "metadata": {},
   "outputs": [
    {
     "data": {
      "text/plain": [
       "{'language': 'Python',\n",
       " 'course': 'Data Science Masters',\n",
       " 'topics': ['Python', 'Machine Learning', 'Deep Learning']}"
      ]
     },
     "execution_count": 99,
     "metadata": {},
     "output_type": "execute_result"
    }
   ],
   "source": [
    "dict1"
   ]
  },
  {
   "cell_type": "markdown",
   "id": "f3162f15-037c-498f-9e4f-bd43aea7136d",
   "metadata": {},
   "source": [
    "# Q8. What are the three view objects in dictionaries? Use the three in-built methods in python to display these three view objects for the given dictionary. "
   ]
  },
  {
   "cell_type": "markdown",
   "id": "74678e3a-3209-4833-8490-992d5d2bc361",
   "metadata": {},
   "source": [
    "## dict1 = {'Sport': 'Cricket' , 'Teams': ['India', 'Australia', 'England', 'South Africa', 'Sri Lanka', 'New Zealand']}"
   ]
  },
  {
   "cell_type": "markdown",
   "id": "3c53a95c-b2ac-49e7-95c3-5bf375fc5409",
   "metadata": {},
   "source": [
    "### Keys, values and items are the 3 view objects in dictionaries. "
   ]
  },
  {
   "cell_type": "code",
   "execution_count": 100,
   "id": "b27bb0f3-214f-4d44-8e2c-e9b6c7f6101d",
   "metadata": {},
   "outputs": [
    {
     "data": {
      "text/plain": [
       "{'Sport': 'Cricket',\n",
       " 'Teams': ['India',\n",
       "  'Australia',\n",
       "  'England',\n",
       "  'South Africa',\n",
       "  'Sri Lanka',\n",
       "  'New Zealand']}"
      ]
     },
     "execution_count": 100,
     "metadata": {},
     "output_type": "execute_result"
    }
   ],
   "source": [
    "dict1 = {'Sport': 'Cricket' , 'Teams': ['India', 'Australia', 'England', 'South Africa', 'Sri Lanka', 'New Zealand']}\n",
    "dict1"
   ]
  },
  {
   "cell_type": "code",
   "execution_count": 101,
   "id": "3990823a-a5c8-4ac5-8aa3-6c58a2649a78",
   "metadata": {},
   "outputs": [
    {
     "data": {
      "text/plain": [
       "dict_keys(['Sport', 'Teams'])"
      ]
     },
     "execution_count": 101,
     "metadata": {},
     "output_type": "execute_result"
    }
   ],
   "source": [
    "dict1.keys()"
   ]
  },
  {
   "cell_type": "code",
   "execution_count": 32,
   "id": "e8f6d632-9654-4399-8796-e7a35bdc4432",
   "metadata": {},
   "outputs": [
    {
     "data": {
      "text/plain": [
       "dict_values(['Cricket', ['India', 'Australia', 'England', 'South Africa', 'Sri Lanka', 'New Zealand']])"
      ]
     },
     "execution_count": 32,
     "metadata": {},
     "output_type": "execute_result"
    }
   ],
   "source": [
    "dict1.values()"
   ]
  },
  {
   "cell_type": "code",
   "execution_count": 33,
   "id": "9524fd4f-fe86-442d-9abb-7a6d025c481e",
   "metadata": {},
   "outputs": [
    {
     "data": {
      "text/plain": [
       "dict_items([('Sport', 'Cricket'), ('Teams', ['India', 'Australia', 'England', 'South Africa', 'Sri Lanka', 'New Zealand'])])"
      ]
     },
     "execution_count": 33,
     "metadata": {},
     "output_type": "execute_result"
    }
   ],
   "source": [
    "dict1.items()"
   ]
  }
 ],
 "metadata": {
  "kernelspec": {
   "display_name": "Python 3 (ipykernel)",
   "language": "python",
   "name": "python3"
  },
  "language_info": {
   "codemirror_mode": {
    "name": "ipython",
    "version": 3
   },
   "file_extension": ".py",
   "mimetype": "text/x-python",
   "name": "python",
   "nbconvert_exporter": "python",
   "pygments_lexer": "ipython3",
   "version": "3.10.8"
  }
 },
 "nbformat": 4,
 "nbformat_minor": 5
}
